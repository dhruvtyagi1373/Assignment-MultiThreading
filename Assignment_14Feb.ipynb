{
 "cells": [
  {
   "cell_type": "markdown",
   "id": "a2efda7a-ae8d-4f3f-8901-96f0cd8cf798",
   "metadata": {},
   "source": [
    "## Q1. What is multithreading in python? Why is it used? Name the module used to handle threads in python?"
   ]
  },
  {
   "cell_type": "raw",
   "id": "36923bc0-655f-44bc-95b7-7ea12b617d14",
   "metadata": {},
   "source": [
    "Multithreading is a threading technique in Python programming to run multiple threads concurrently by rapidly switching between threads with a CPU help (called context switching). Besides, it allows sharing of its data space with the main threads inside a process that share information and communication with other threads easier than individual processes. Multithreading aims to perform multiple tasks simultaneously, which increases performance, speed and improves the rendering of the application.\n",
    "threading is the module used to handle threads in python."
   ]
  },
  {
   "cell_type": "markdown",
   "id": "2bd64c33-8ffb-4cae-99ba-30534755f671",
   "metadata": {},
   "source": [
    "## Q2. Why threading module used? Write the use of the following functions:\n",
    "1. activeCount()\n",
    "2. currentThread()\n",
    "3. enumerate()"
   ]
  },
  {
   "cell_type": "raw",
   "id": "4656f86a-5e17-4e43-ac33-09ab97954cec",
   "metadata": {},
   "source": [
    "threading module is used in python to perform multithreading."
   ]
  },
  {
   "cell_type": "raw",
   "id": "1d05af9e-572e-4b73-add2-2f6dda80dbf5",
   "metadata": {},
   "source": [
    "1. Returns the number of thread objects that are active."
   ]
  },
  {
   "cell_type": "raw",
   "id": "c99255e6-3dcf-45e0-b2a8-394a6ce0f0bd",
   "metadata": {},
   "source": [
    "2. Returns the number of thread objects in the caller's thread control."
   ]
  },
  {
   "cell_type": "raw",
   "id": "9e248b50-92b0-45d2-8cb8-6702bc9298ce",
   "metadata": {},
   "source": [
    "3. Returns a list of all thread objects that are currently active"
   ]
  },
  {
   "cell_type": "markdown",
   "id": "418b8e55-0236-43a7-8022-f9a975fd3e3f",
   "metadata": {},
   "source": [
    "## Q3. Explain the following functions:\n",
    "1. run()\n",
    "2. start()\n",
    "3. join()\n",
    "4. isAlive()"
   ]
  },
  {
   "cell_type": "raw",
   "id": "50ba8857-39ea-415d-9a35-2814ade3ea4e",
   "metadata": {},
   "source": [
    "1. A run() method is used to define a thread's activity and can be overridden by a class that extends the threads class."
   ]
  },
  {
   "cell_type": "raw",
   "id": "870de883-9fdb-4ec3-995d-166ca300c610",
   "metadata": {},
   "source": [
    "2. A start() method is used to initiate the activity of a thread. And it calls only once for each thread so that the execution of the thread can begin."
   ]
  },
  {
   "cell_type": "raw",
   "id": "c73b0e2e-86a7-401c-8823-4de3a214f41e",
   "metadata": {},
   "source": [
    "3. A join() method is used to block the execution of another code until the thread terminates"
   ]
  },
  {
   "cell_type": "raw",
   "id": "103028ff-8a6f-4827-841f-85e8d9806560",
   "metadata": {},
   "source": [
    "4. Thread.is_alive() method is an inbuilt method of the Thread class of the threading module in Python. It uses a Thread object, and checks whether that thread is alive or not, ie, it is still running or not. This method returns True before the run() starts until just after the run() method is executed."
   ]
  },
  {
   "cell_type": "markdown",
   "id": "0671bf51-f562-4f8e-ae61-8a8e53eea076",
   "metadata": {},
   "source": [
    "## 4. Write a python program to create two threads. Thread one must print the list of squares and thread two must print the list of cubes"
   ]
  },
  {
   "cell_type": "code",
   "execution_count": 1,
   "id": "3d3d9ca1-96c9-41d9-a29c-0eca5caee1b9",
   "metadata": {},
   "outputs": [],
   "source": [
    "import threading"
   ]
  },
  {
   "cell_type": "code",
   "execution_count": 12,
   "id": "27589586-28ae-46b9-8ba8-ff5ef73f7f7e",
   "metadata": {},
   "outputs": [],
   "source": [
    "def calc_square(lst):\n",
    "    l = []\n",
    "    for i in lst:\n",
    "        j = i*i\n",
    "        l.append(j)\n",
    "    print(l)"
   ]
  },
  {
   "cell_type": "code",
   "execution_count": 13,
   "id": "3c83042f-ed04-40ce-9b0f-7cf8b7fab631",
   "metadata": {},
   "outputs": [],
   "source": [
    "def calc_cube(lst):\n",
    "    l = []\n",
    "    for i in lst:\n",
    "        j = i**3\n",
    "        l.append(j)\n",
    "    print(l)"
   ]
  },
  {
   "cell_type": "code",
   "execution_count": 14,
   "id": "1baf097b-9a40-4d5d-98df-21a8d77ec9cf",
   "metadata": {},
   "outputs": [],
   "source": [
    "l = [4,5,6]"
   ]
  },
  {
   "cell_type": "code",
   "execution_count": 19,
   "id": "40ead6df-de84-40a5-ab35-d89d875ec328",
   "metadata": {},
   "outputs": [],
   "source": [
    "thred1 =[threading.Thread(target = calc_square, args=(l,)) ]"
   ]
  },
  {
   "cell_type": "code",
   "execution_count": 20,
   "id": "2f5fa2f9-b172-468f-a3e2-9f3b67dfbca7",
   "metadata": {},
   "outputs": [
    {
     "name": "stdout",
     "output_type": "stream",
     "text": [
      "[16, 25, 36]\n"
     ]
    }
   ],
   "source": [
    "for t in thred1:\n",
    "    t.start()"
   ]
  },
  {
   "cell_type": "code",
   "execution_count": 23,
   "id": "57e536c9-ea22-4bbd-8939-83b37fa1801a",
   "metadata": {},
   "outputs": [],
   "source": [
    "thred2 =[threading.Thread(target = calc_cube, args=(l,)) ]"
   ]
  },
  {
   "cell_type": "code",
   "execution_count": 22,
   "id": "0c63e832-a580-4623-bc5e-0ec796a8dbab",
   "metadata": {},
   "outputs": [
    {
     "name": "stdout",
     "output_type": "stream",
     "text": [
      "[64, 125, 216]\n"
     ]
    }
   ],
   "source": [
    "for b in thred2:\n",
    "    b.start()"
   ]
  },
  {
   "cell_type": "markdown",
   "id": "d286f9d7-a44e-47ee-9aad-a1eb2d37a9af",
   "metadata": {},
   "source": [
    "## Q5. State advantages and disadvantages of multithreading."
   ]
  },
  {
   "cell_type": "raw",
   "id": "b869ae40-5444-4e08-bb5a-5b13fa29f349",
   "metadata": {},
   "source": [
    "Advantages-\n",
    "1. Python multithreading enables efficient utilization of the resources as the threads share the data space and memory.\n",
    "2. Multithreading in Python allows the concurrent and parallel occurrence of various tasks.\n",
    "3. It causes a reduction in time consumption or response time, thereby increasing the performance"
   ]
  },
  {
   "cell_type": "raw",
   "id": "590874ec-88e1-4fcf-b5c1-f61fd0d33d16",
   "metadata": {},
   "source": [
    "Disadvantages-\n",
    "1. Difficulty of writing code:\n",
    "   Multithreaded and multicontexted applications are not easy to write. Only experienced programmers should undertake coding for these types of applications.\n",
    "2. Difficulty of debugging:\n",
    "   It is much harder to replicate an error in a multithreaded or multicontexted application than it is to do so in a single-threaded, single-contexted application. As a result, it is more difficult, in the former case, to identify and verify root causes when errors occur.\n",
    "3. Difficulty of managing concurrency\n",
    "   The task of managing concurrency among threads is difficult and has the potential to introduce new problems into an application."
   ]
  },
  {
   "cell_type": "markdown",
   "id": "ac603d41-004d-4d64-a844-b5b7589668af",
   "metadata": {},
   "source": [
    "## Q6. Explain deadlocks and race conditions."
   ]
  },
  {
   "cell_type": "raw",
   "id": "98810835-85ad-4530-a721-c649a299fd54",
   "metadata": {},
   "source": [
    "Deadlock is a condition when one thread tries to access resource that is currently occupied by the other thread and the thread will only release the resource after it gets executed.\n",
    "\n",
    "Race conditions happen when two or more threads access the shared piece of data and resource. In real-time multithreading in Python, it can occur when threads overlap."
   ]
  }
 ],
 "metadata": {
  "kernelspec": {
   "display_name": "Python 3 (ipykernel)",
   "language": "python",
   "name": "python3"
  },
  "language_info": {
   "codemirror_mode": {
    "name": "ipython",
    "version": 3
   },
   "file_extension": ".py",
   "mimetype": "text/x-python",
   "name": "python",
   "nbconvert_exporter": "python",
   "pygments_lexer": "ipython3",
   "version": "3.10.8"
  }
 },
 "nbformat": 4,
 "nbformat_minor": 5
}
